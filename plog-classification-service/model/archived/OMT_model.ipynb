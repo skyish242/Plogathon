{
 "cells": [
  {
   "cell_type": "markdown",
   "metadata": {},
   "source": [
    "### Object Material Type (OMT) Classifier, based on OpenAI's CLIP Model\n",
    "Source: https://openai.com/research/clip"
   ]
  },
  {
   "cell_type": "code",
   "execution_count": 1,
   "metadata": {},
   "outputs": [],
   "source": [
    "from model_functions import *\n",
    "\n",
    "# Load dataset\n",
    "df_dataset = load_from_pickle(dataset_file)\n",
    "\n",
    "# Take 10% of stratified samples for zero-shot classification testing\n",
    "_x_train, zs_x, _y_train, zs_y = train_test_split(df_dataset['File'], df_dataset['Material Class'], test_size=0.01, stratify=df_dataset['Material Class'], random_state=9876)\n",
    "_x_train, zs_x_test, _y_train, zs_y_test = train_test_split(df_dataset['File'], df_dataset['Material Class'], test_size=0.01, stratify=df_dataset['Material Class'], random_state=5678)\n",
    "\n",
    "# 80-20 Train-Test split\n",
    "x_train, x_test, y_train, y_test = train_test_split(df_dataset['File'], df_dataset['Material Class'], test_size=0.2, stratify=df_dataset['Material Class'], random_state=1234)"
   ]
  },
  {
   "cell_type": "code",
   "execution_count": 2,
   "metadata": {},
   "outputs": [
    {
     "name": "stderr",
     "output_type": "stream",
     "text": [
      "100%|██████████| 1/1 [00:54<00:00, 54.42s/it]\n",
      "100%|██████████| 1/1 [00:55<00:00, 55.35s/it]\n"
     ]
    }
   ],
   "source": [
    "train_features, train_classes = get_clip_features(zs_x, zs_y)\n",
    "test_features, test_classes = get_clip_features(zs_x_test, zs_y_test)"
   ]
  },
  {
   "cell_type": "code",
   "execution_count": 6,
   "metadata": {},
   "outputs": [
    {
     "name": "stdout",
     "output_type": "stream",
     "text": [
      "RUNNING THE L-BFGS-B CODE\n",
      "\n",
      "           * * *\n",
      "\n",
      "Machine precision = 2.220D-16\n",
      " N =         3845     M =           10\n",
      "\n",
      "At X0         0 variables are exactly at the bounds\n",
      "\n",
      "At iterate    0    f=  1.60944D+00    |proj g|=  1.59483D+00\n",
      "\n",
      "At iterate   50    f=  3.65345D-01    |proj g|=  9.89559D-03\n",
      "\n",
      "At iterate  100    f=  3.63552D-01    |proj g|=  8.57894D-04\n"
     ]
    },
    {
     "name": "stderr",
     "output_type": "stream",
     "text": [
      " This problem is unconstrained.\n"
     ]
    },
    {
     "name": "stdout",
     "output_type": "stream",
     "text": [
      "\n",
      "At iterate  150    f=  3.62902D-01    |proj g|=  1.37224D-02\n",
      "\n",
      "At iterate  200    f=  3.62159D-01    |proj g|=  6.30518D-04\n",
      "\n",
      "At iterate  250    f=  3.62138D-01    |proj g|=  6.99656D-04\n",
      "\n",
      "At iterate  300    f=  3.62112D-01    |proj g|=  2.24169D-04\n",
      "\n",
      "           * * *\n",
      "\n",
      "Tit   = total number of iterations\n",
      "Tnf   = total number of function evaluations\n",
      "Tnint = total number of segments explored during Cauchy searches\n",
      "Skip  = number of BFGS updates skipped\n",
      "Nact  = number of active bounds at final generalized Cauchy point\n",
      "Projg = norm of the final projected gradient\n",
      "F     = final function value\n",
      "\n",
      "           * * *\n",
      "\n",
      "   N    Tit     Tnf  Tnint  Skip  Nact     Projg        F\n",
      " 3845    304    325      1     0     0   9.460D-05   3.621D-01\n",
      "  F =  0.36211051056947430     \n",
      "\n",
      "CONVERGENCE: NORM_OF_PROJECTED_GRADIENT_<=_PGTOL            \n",
      "Accuracy = 20.576\n"
     ]
    }
   ],
   "source": [
    "from sklearn.linear_model import LogisticRegression\n",
    "classifier = LogisticRegression(random_state=0, C=0.316, max_iter=1000, verbose=1, multi_class='multinomial')\n",
    "classifier.fit(train_features, zs_y)\n",
    "\n",
    "predictions = classifier.predict(test_features)\n",
    "accuracy = np.mean((zs_y_test == predictions).astype(float)) * 100\n",
    "print(f\"Accuracy = {accuracy:.3f}\")"
   ]
  },
  {
   "cell_type": "code",
   "execution_count": null,
   "metadata": {},
   "outputs": [],
   "source": [
    "\"\"\" Initial Performance \"\"\"\n",
    "# Get model specifications\n",
    "input_resolution = model.visual.input_resolution\n",
    "context_length = model.context_length\n",
    "vocab_size = model.vocab_size\n",
    "\n",
    "print(\"Model parameters:\", f\"{np.sum([int(np.prod(p.shape)) for p in model.parameters()]):,}\")\n",
    "print(\"Input resolution:\", input_resolution)\n",
    "print(\"Context length:\", context_length)\n",
    "print(\"Vocab size:\", vocab_size, end='\\n\\n')\n",
    "\n",
    "# Get model performance\n",
    "results = multi_class_metrics(list(zs_y), zs_y_pred)\n",
    "accuracy = results['accuracy']\n",
    "precision = results['precision']\n",
    "recall = results['recall']\n",
    "f1 = results['f1']\n",
    "mcc = results['mcc']\n",
    "kappa = results['kappa']\n",
    "hamming_loss_val = results['hamming_loss_val']\n",
    "cm = results['cm']\n",
    "class_report = results['class_report']\n",
    "\n",
    "# Print results\n",
    "print(\"Accuracy:\", accuracy)\n",
    "print(\"Precision:\", precision)\n",
    "print(\"Recall:\", recall)\n",
    "print(\"F1 Score:\", f1)\n",
    "print(\"Matthews Correlation Coefficient (MCC):\", mcc)\n",
    "print(\"Cohen's Kappa:\", kappa)\n",
    "print(\"Hamming Loss:\", hamming_loss_val, end='\\n\\n')\n",
    "print(\"Confusion Matrix:\\n\", cm, end=\"\\n\\n\")\n",
    "print(\"Classification Report:\\n\", class_report, end=\"\\n\\n\\n\")"
   ]
  }
 ],
 "metadata": {
  "kernelspec": {
   "display_name": ".venv_ai",
   "language": "python",
   "name": "python3"
  },
  "language_info": {
   "codemirror_mode": {
    "name": "ipython",
    "version": 3
   },
   "file_extension": ".py",
   "mimetype": "text/x-python",
   "name": "python",
   "nbconvert_exporter": "python",
   "pygments_lexer": "ipython3",
   "version": "3.12.2"
  }
 },
 "nbformat": 4,
 "nbformat_minor": 2
}
