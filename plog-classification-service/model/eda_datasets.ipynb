{
 "cells": [
  {
   "cell_type": "markdown",
   "metadata": {},
   "source": [
    "### Exploratory Data Analysis of (1) Recycle Classification Dataset and (2) Garbage Classification Datasets\n",
    "Sources:\n",
    "- https://www.kaggle.com/datasets/jinfree/recycle-classification-dataset\n",
    "- https://www.kaggle.com/datasets/mostafaabla/garbage-classification"
   ]
  },
  {
   "cell_type": "code",
   "execution_count": 1,
   "metadata": {},
   "outputs": [],
   "source": [
    "import pandas as pd\n",
    "import pickle\n",
    "\n",
    "# Function to serialise an object into a pickle file\n",
    "def save_to_pickle(file_path, save_data):\n",
    "    with open(file_path, 'wb') as file:\n",
    "        pickle.dump(save_data, file)\n",
    "\n",
    "# Function to deserialise a pickle file\n",
    "def load_from_pickle(file_path):\n",
    "    with open(file_path, 'rb') as file:\n",
    "        loaded_data = pickle.load(file)\n",
    "    return loaded_data\n",
    "\n",
    "material_items = load_from_pickle('export/dict_material_items.pkl')"
   ]
  },
  {
   "cell_type": "code",
   "execution_count": 2,
   "metadata": {},
   "outputs": [
    {
     "data": {
      "text/plain": [
       "dict_keys(['Paper', 'Others', 'Plastic', 'Glass', 'Metal'])"
      ]
     },
     "execution_count": 2,
     "metadata": {},
     "output_type": "execute_result"
    }
   ],
   "source": [
    "material_items.keys()"
   ]
  },
  {
   "cell_type": "code",
   "execution_count": null,
   "metadata": {},
   "outputs": [],
   "source": []
  }
 ],
 "metadata": {
  "kernelspec": {
   "display_name": ".venv",
   "language": "python",
   "name": "python3"
  },
  "language_info": {
   "codemirror_mode": {
    "name": "ipython",
    "version": 3
   },
   "file_extension": ".py",
   "mimetype": "text/x-python",
   "name": "python",
   "nbconvert_exporter": "python",
   "pygments_lexer": "ipython3",
   "version": "3.12.2"
  }
 },
 "nbformat": 4,
 "nbformat_minor": 2
}
