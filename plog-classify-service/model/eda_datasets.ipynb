{
 "cells": [
  {
   "cell_type": "markdown",
   "metadata": {},
   "source": [
    "### Exploratory Data Analysis of (1) Recycle Classification Dataset and (2) Garbage Classification Datasets\n",
    "Sources:\n",
    "- https://www.kaggle.com/datasets/jinfree/recycle-classification-dataset\n",
    "- https://www.kaggle.com/datasets/mostafaabla/garbage-classification"
   ]
  },
  {
   "cell_type": "code",
   "execution_count": 1,
   "metadata": {},
   "outputs": [],
   "source": [
    "from common import *\n",
    "\n",
    "# Initialise dataset folder\n",
    "list_folders = os.listdir(DATASET_FOLDER)\n",
    "if('.DS_Store' in list_folders):\n",
    "    list_folders.remove('.DS_Store')\n",
    "list_data = []\n",
    "\n",
    "# Populate dataset dataframe\n",
    "for folder in list_folders:\n",
    "    current_path = f\"{DATASET_FOLDER}/{folder}\"\n",
    "    list_files = os.listdir(current_path)\n",
    "    if('.DS_Store' in list_files):\n",
    "        list_files.remove('.DS_Store')\n",
    "    for i in list_files:\n",
    "        list_data.append({'File': f\"{current_path}/{i}\", 'Material Class': inverse_material_class_mapping[folder], 'Material': folder})\n",
    "        \n",
    "# Create dataframe\n",
    "df_dataset = pd.DataFrame(list_data)\n",
    "\n",
    "# Save dataframe\n",
    "save_to_pickle(dataset_file, df_dataset)"
   ]
  },
  {
   "cell_type": "code",
   "execution_count": 2,
   "metadata": {},
   "outputs": [
    {
     "data": {
      "text/html": [
       "<div>\n",
       "<style scoped>\n",
       "    .dataframe tbody tr th:only-of-type {\n",
       "        vertical-align: middle;\n",
       "    }\n",
       "\n",
       "    .dataframe tbody tr th {\n",
       "        vertical-align: top;\n",
       "    }\n",
       "\n",
       "    .dataframe thead th {\n",
       "        text-align: right;\n",
       "    }\n",
       "</style>\n",
       "<table border=\"1\" class=\"dataframe\">\n",
       "  <thead>\n",
       "    <tr style=\"text-align: right;\">\n",
       "      <th></th>\n",
       "      <th>File</th>\n",
       "      <th>Material Class</th>\n",
       "      <th>Material</th>\n",
       "    </tr>\n",
       "  </thead>\n",
       "  <tbody>\n",
       "    <tr>\n",
       "      <th>0</th>\n",
       "      <td>./dataset/waste_dataset/Paper/paper1 (279).jpg</td>\n",
       "      <td>1</td>\n",
       "      <td>Paper</td>\n",
       "    </tr>\n",
       "    <tr>\n",
       "      <th>1</th>\n",
       "      <td>./dataset/waste_dataset/Paper/cardboard555.jpg</td>\n",
       "      <td>1</td>\n",
       "      <td>Paper</td>\n",
       "    </tr>\n",
       "    <tr>\n",
       "      <th>2</th>\n",
       "      <td>./dataset/waste_dataset/Paper/paper1 (1563).jpg</td>\n",
       "      <td>1</td>\n",
       "      <td>Paper</td>\n",
       "    </tr>\n",
       "    <tr>\n",
       "      <th>3</th>\n",
       "      <td>./dataset/waste_dataset/Paper/paper1 (1099).jpg</td>\n",
       "      <td>1</td>\n",
       "      <td>Paper</td>\n",
       "    </tr>\n",
       "    <tr>\n",
       "      <th>4</th>\n",
       "      <td>./dataset/waste_dataset/Paper/paper1 (783).jpg</td>\n",
       "      <td>1</td>\n",
       "      <td>Paper</td>\n",
       "    </tr>\n",
       "    <tr>\n",
       "      <th>...</th>\n",
       "      <td>...</td>\n",
       "      <td>...</td>\n",
       "      <td>...</td>\n",
       "    </tr>\n",
       "    <tr>\n",
       "      <th>24230</th>\n",
       "      <td>./dataset/waste_dataset/Plastic/bandicam 2019-...</td>\n",
       "      <td>2</td>\n",
       "      <td>Plastic</td>\n",
       "    </tr>\n",
       "    <tr>\n",
       "      <th>24231</th>\n",
       "      <td>./dataset/waste_dataset/Plastic/plastic1 (27).jpg</td>\n",
       "      <td>2</td>\n",
       "      <td>Plastic</td>\n",
       "    </tr>\n",
       "    <tr>\n",
       "      <th>24232</th>\n",
       "      <td>./dataset/waste_dataset/Plastic/bandicam 2019-...</td>\n",
       "      <td>2</td>\n",
       "      <td>Plastic</td>\n",
       "    </tr>\n",
       "    <tr>\n",
       "      <th>24233</th>\n",
       "      <td>./dataset/waste_dataset/Plastic/plastic388.jpg</td>\n",
       "      <td>2</td>\n",
       "      <td>Plastic</td>\n",
       "    </tr>\n",
       "    <tr>\n",
       "      <th>24234</th>\n",
       "      <td>./dataset/waste_dataset/Plastic/plastic (414).JPG</td>\n",
       "      <td>2</td>\n",
       "      <td>Plastic</td>\n",
       "    </tr>\n",
       "  </tbody>\n",
       "</table>\n",
       "<p>24235 rows × 3 columns</p>\n",
       "</div>"
      ],
      "text/plain": [
       "                                                    File  Material Class  \\\n",
       "0         ./dataset/waste_dataset/Paper/paper1 (279).jpg               1   \n",
       "1         ./dataset/waste_dataset/Paper/cardboard555.jpg               1   \n",
       "2        ./dataset/waste_dataset/Paper/paper1 (1563).jpg               1   \n",
       "3        ./dataset/waste_dataset/Paper/paper1 (1099).jpg               1   \n",
       "4         ./dataset/waste_dataset/Paper/paper1 (783).jpg               1   \n",
       "...                                                  ...             ...   \n",
       "24230  ./dataset/waste_dataset/Plastic/bandicam 2019-...               2   \n",
       "24231  ./dataset/waste_dataset/Plastic/plastic1 (27).jpg               2   \n",
       "24232  ./dataset/waste_dataset/Plastic/bandicam 2019-...               2   \n",
       "24233     ./dataset/waste_dataset/Plastic/plastic388.jpg               2   \n",
       "24234  ./dataset/waste_dataset/Plastic/plastic (414).JPG               2   \n",
       "\n",
       "      Material  \n",
       "0        Paper  \n",
       "1        Paper  \n",
       "2        Paper  \n",
       "3        Paper  \n",
       "4        Paper  \n",
       "...        ...  \n",
       "24230  Plastic  \n",
       "24231  Plastic  \n",
       "24232  Plastic  \n",
       "24233  Plastic  \n",
       "24234  Plastic  \n",
       "\n",
       "[24235 rows x 3 columns]"
      ]
     },
     "execution_count": 2,
     "metadata": {},
     "output_type": "execute_result"
    }
   ],
   "source": [
    "df_dataset"
   ]
  },
  {
   "cell_type": "code",
   "execution_count": 3,
   "metadata": {},
   "outputs": [
    {
     "data": {
      "text/plain": [
       "Material\n",
       "Others     9232\n",
       "Paper      4571\n",
       "Metal      4242\n",
       "Glass      3215\n",
       "Plastic    2975\n",
       "Name: count, dtype: int64"
      ]
     },
     "execution_count": 3,
     "metadata": {},
     "output_type": "execute_result"
    }
   ],
   "source": [
    "df_dataset['Material'].value_counts()"
   ]
  },
  {
   "cell_type": "code",
   "execution_count": 4,
   "metadata": {},
   "outputs": [
    {
     "data": {
      "text/plain": [
       "Material Class\n",
       "0    9232\n",
       "1    4571\n",
       "4    4242\n",
       "3    3215\n",
       "2    2975\n",
       "Name: count, dtype: int64"
      ]
     },
     "execution_count": 4,
     "metadata": {},
     "output_type": "execute_result"
    }
   ],
   "source": [
    "df_dataset['Material Class'].value_counts()"
   ]
  }
 ],
 "metadata": {
  "kernelspec": {
   "display_name": ".venv",
   "language": "python",
   "name": "python3"
  },
  "language_info": {
   "codemirror_mode": {
    "name": "ipython",
    "version": 3
   },
   "file_extension": ".py",
   "mimetype": "text/x-python",
   "name": "python",
   "nbconvert_exporter": "python",
   "pygments_lexer": "ipython3",
   "version": "3.12.2"
  }
 },
 "nbformat": 4,
 "nbformat_minor": 2
}
